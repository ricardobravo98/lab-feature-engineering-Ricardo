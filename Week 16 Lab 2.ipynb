{
 "cells": [
  {
   "cell_type": "code",
   "execution_count": 31,
   "id": "47e0f972",
   "metadata": {},
   "outputs": [],
   "source": [
    "import pandas as pd\n",
    "import numpy as np\n",
    "import seaborn as sns\n",
    "import matplotlib.pyplot as plt"
   ]
  },
  {
   "cell_type": "code",
   "execution_count": 32,
   "id": "c0facde9",
   "metadata": {},
   "outputs": [],
   "source": [
    "data = pd.read_csv(\"learningSet.csv\", low_memory=False)"
   ]
  },
  {
   "cell_type": "code",
   "execution_count": 33,
   "id": "5d0b03ec",
   "metadata": {},
   "outputs": [
    {
     "data": {
      "text/plain": [
       "ODATEDW       int64\n",
       "OSOURCE      object\n",
       "TCODE         int64\n",
       "STATE        object\n",
       "ZIP          object\n",
       "             ...   \n",
       "MDMAUD_R     object\n",
       "MDMAUD_F     object\n",
       "MDMAUD_A     object\n",
       "CLUSTER2    float64\n",
       "GEOCODE2     object\n",
       "Length: 481, dtype: object"
      ]
     },
     "execution_count": 33,
     "metadata": {},
     "output_type": "execute_result"
    }
   ],
   "source": [
    "data.dtypes"
   ]
  },
  {
   "cell_type": "markdown",
   "id": "a44ffda9",
   "metadata": {},
   "source": [
    "### Null Values numerical columns"
   ]
  },
  {
   "cell_type": "code",
   "execution_count": 34,
   "id": "39da47c2",
   "metadata": {},
   "outputs": [],
   "source": [
    "numerical = data.select_dtypes(include=np.number)\n",
    "categorical = data.select_dtypes(exclude=np.number)"
   ]
  },
  {
   "cell_type": "code",
   "execution_count": 35,
   "id": "a53b44d7",
   "metadata": {},
   "outputs": [
    {
     "name": "stdout",
     "output_type": "stream",
     "text": [
      "ODATEDW 0\n",
      "OSOURCE 0\n",
      "TCODE 0\n",
      "STATE 0\n",
      "ZIP 0\n",
      "MAILCODE 0\n",
      "PVASTATE 0\n",
      "DOB 0\n",
      "NOEXCH 0\n",
      "RECINHSE 0\n",
      "RECP3 0\n",
      "RECPGVG 0\n",
      "RECSWEEP 0\n",
      "MDMAUD 0\n",
      "DOMAIN 0\n",
      "CLUSTER 0\n",
      "AGE 23665\n",
      "AGEFLAG 0\n",
      "HOMEOWNR 0\n",
      "CHILD03 0\n",
      "CHILD07 0\n",
      "CHILD12 0\n",
      "CHILD18 0\n",
      "NUMCHLD 83026\n",
      "INCOME 21286\n",
      "GENDER 0\n",
      "WEALTH1 44732\n",
      "HIT 0\n",
      "MBCRAFT 52854\n",
      "MBGARDEN 52854\n",
      "MBBOOKS 52854\n",
      "MBCOLECT 52914\n",
      "MAGFAML 52854\n",
      "MAGFEM 52854\n",
      "MAGMALE 52854\n",
      "PUBGARDN 52854\n",
      "PUBCULIN 52854\n",
      "PUBHLTH 52854\n",
      "PUBDOITY 52854\n",
      "PUBNEWFN 52854\n",
      "PUBPHOTO 52854\n",
      "PUBOPP 52854\n",
      "DATASRCE 0\n",
      "MALEMILI 0\n",
      "MALEVET 0\n",
      "VIETVETS 0\n",
      "WWIIVETS 0\n",
      "LOCALGOV 0\n",
      "STATEGOV 0\n",
      "FEDGOV 0\n",
      "SOLP3 0\n",
      "SOLIH 0\n",
      "MAJOR 0\n",
      "WEALTH2 43823\n",
      "GEOCODE 0\n",
      "COLLECT1 0\n",
      "VETERANS 0\n",
      "BIBLE 0\n",
      "CATLG 0\n",
      "HOMEE 0\n",
      "PETS 0\n",
      "CDPLAY 0\n",
      "STEREO 0\n",
      "PCOWNERS 0\n",
      "PHOTO 0\n",
      "CRAFTS 0\n",
      "FISHER 0\n",
      "GARDENIN 0\n",
      "BOATS 0\n",
      "WALKER 0\n",
      "KIDSTUFF 0\n",
      "CARDS 0\n",
      "PLATES 0\n",
      "LIFESRC 0\n",
      "PEPSTRFL 0\n",
      "POP901 0\n",
      "POP902 0\n",
      "POP903 0\n",
      "POP90C1 0\n",
      "POP90C2 0\n",
      "POP90C3 0\n",
      "POP90C4 0\n",
      "POP90C5 0\n",
      "ETH1 0\n",
      "ETH2 0\n",
      "ETH3 0\n",
      "ETH4 0\n",
      "ETH5 0\n",
      "ETH6 0\n",
      "ETH7 0\n",
      "ETH8 0\n",
      "ETH9 0\n",
      "ETH10 0\n",
      "ETH11 0\n",
      "ETH12 0\n",
      "ETH13 0\n",
      "ETH14 0\n",
      "ETH15 0\n",
      "ETH16 0\n",
      "AGE901 0\n",
      "AGE902 0\n",
      "AGE903 0\n",
      "AGE904 0\n",
      "AGE905 0\n",
      "AGE906 0\n",
      "AGE907 0\n",
      "CHIL1 0\n",
      "CHIL2 0\n",
      "CHIL3 0\n",
      "AGEC1 0\n",
      "AGEC2 0\n",
      "AGEC3 0\n",
      "AGEC4 0\n",
      "AGEC5 0\n",
      "AGEC6 0\n",
      "AGEC7 0\n",
      "CHILC1 0\n",
      "CHILC2 0\n",
      "CHILC3 0\n",
      "CHILC4 0\n",
      "CHILC5 0\n",
      "HHAGE1 0\n",
      "HHAGE2 0\n",
      "HHAGE3 0\n",
      "HHN1 0\n",
      "HHN2 0\n",
      "HHN3 0\n",
      "HHN4 0\n",
      "HHN5 0\n",
      "HHN6 0\n",
      "MARR1 0\n",
      "MARR2 0\n",
      "MARR3 0\n",
      "MARR4 0\n",
      "HHP1 0\n",
      "HHP2 0\n",
      "DW1 0\n",
      "DW2 0\n",
      "DW3 0\n",
      "DW4 0\n",
      "DW5 0\n",
      "DW6 0\n",
      "DW7 0\n",
      "DW8 0\n",
      "DW9 0\n",
      "HV1 0\n",
      "HV2 0\n",
      "HV3 0\n",
      "HV4 0\n",
      "HU1 0\n",
      "HU2 0\n",
      "HU3 0\n",
      "HU4 0\n",
      "HU5 0\n",
      "HHD1 0\n",
      "HHD2 0\n",
      "HHD3 0\n",
      "HHD4 0\n",
      "HHD5 0\n",
      "HHD6 0\n",
      "HHD7 0\n",
      "HHD8 0\n",
      "HHD9 0\n",
      "HHD10 0\n",
      "HHD11 0\n",
      "HHD12 0\n",
      "ETHC1 0\n",
      "ETHC2 0\n",
      "ETHC3 0\n",
      "ETHC4 0\n",
      "ETHC5 0\n",
      "ETHC6 0\n",
      "HVP1 0\n",
      "HVP2 0\n",
      "HVP3 0\n",
      "HVP4 0\n",
      "HVP5 0\n",
      "HVP6 0\n",
      "HUR1 0\n",
      "HUR2 0\n",
      "RHP1 0\n",
      "RHP2 0\n",
      "RHP3 0\n",
      "RHP4 0\n",
      "HUPA1 0\n",
      "HUPA2 0\n",
      "HUPA3 0\n",
      "HUPA4 0\n",
      "HUPA5 0\n",
      "HUPA6 0\n",
      "HUPA7 0\n",
      "RP1 0\n",
      "RP2 0\n",
      "RP3 0\n",
      "RP4 0\n",
      "MSA 132\n",
      "ADI 132\n",
      "DMA 132\n",
      "IC1 0\n",
      "IC2 0\n",
      "IC3 0\n",
      "IC4 0\n",
      "IC5 0\n",
      "IC6 0\n",
      "IC7 0\n",
      "IC8 0\n",
      "IC9 0\n",
      "IC10 0\n",
      "IC11 0\n",
      "IC12 0\n",
      "IC13 0\n",
      "IC14 0\n",
      "IC15 0\n",
      "IC16 0\n",
      "IC17 0\n",
      "IC18 0\n",
      "IC19 0\n",
      "IC20 0\n",
      "IC21 0\n",
      "IC22 0\n",
      "IC23 0\n",
      "HHAS1 0\n",
      "HHAS2 0\n",
      "HHAS3 0\n",
      "HHAS4 0\n",
      "MC1 0\n",
      "MC2 0\n",
      "MC3 0\n",
      "TPE1 0\n",
      "TPE2 0\n",
      "TPE3 0\n",
      "TPE4 0\n",
      "TPE5 0\n",
      "TPE6 0\n",
      "TPE7 0\n",
      "TPE8 0\n",
      "TPE9 0\n",
      "PEC1 0\n",
      "PEC2 0\n",
      "TPE10 0\n",
      "TPE11 0\n",
      "TPE12 0\n",
      "TPE13 0\n",
      "LFC1 0\n",
      "LFC2 0\n",
      "LFC3 0\n",
      "LFC4 0\n",
      "LFC5 0\n",
      "LFC6 0\n",
      "LFC7 0\n",
      "LFC8 0\n",
      "LFC9 0\n",
      "LFC10 0\n",
      "OCC1 0\n",
      "OCC2 0\n",
      "OCC3 0\n",
      "OCC4 0\n",
      "OCC5 0\n",
      "OCC6 0\n",
      "OCC7 0\n",
      "OCC8 0\n",
      "OCC9 0\n",
      "OCC10 0\n",
      "OCC11 0\n",
      "OCC12 0\n",
      "OCC13 0\n",
      "EIC1 0\n",
      "EIC2 0\n",
      "EIC3 0\n",
      "EIC4 0\n",
      "EIC5 0\n",
      "EIC6 0\n",
      "EIC7 0\n",
      "EIC8 0\n",
      "EIC9 0\n",
      "EIC10 0\n",
      "EIC11 0\n",
      "EIC12 0\n",
      "EIC13 0\n",
      "EIC14 0\n",
      "EIC15 0\n",
      "EIC16 0\n",
      "OEDC1 0\n",
      "OEDC2 0\n",
      "OEDC3 0\n",
      "OEDC4 0\n",
      "OEDC5 0\n",
      "OEDC6 0\n",
      "OEDC7 0\n",
      "EC1 0\n",
      "EC2 0\n",
      "EC3 0\n",
      "EC4 0\n",
      "EC5 0\n",
      "EC6 0\n",
      "EC7 0\n",
      "EC8 0\n",
      "SEC1 0\n",
      "SEC2 0\n",
      "SEC3 0\n",
      "SEC4 0\n",
      "SEC5 0\n",
      "AFC1 0\n",
      "AFC2 0\n",
      "AFC3 0\n",
      "AFC4 0\n",
      "AFC5 0\n",
      "AFC6 0\n",
      "VC1 0\n",
      "VC2 0\n",
      "VC3 0\n",
      "VC4 0\n",
      "ANC1 0\n",
      "ANC2 0\n",
      "ANC3 0\n",
      "ANC4 0\n",
      "ANC5 0\n",
      "ANC6 0\n",
      "ANC7 0\n",
      "ANC8 0\n",
      "ANC9 0\n",
      "ANC10 0\n",
      "ANC11 0\n",
      "ANC12 0\n",
      "ANC13 0\n",
      "ANC14 0\n",
      "ANC15 0\n",
      "POBC1 0\n",
      "POBC2 0\n",
      "LSC1 0\n",
      "LSC2 0\n",
      "LSC3 0\n",
      "LSC4 0\n",
      "VOC1 0\n",
      "VOC2 0\n",
      "VOC3 0\n",
      "HC1 0\n",
      "HC2 0\n",
      "HC3 0\n",
      "HC4 0\n",
      "HC5 0\n",
      "HC6 0\n",
      "HC7 0\n",
      "HC8 0\n",
      "HC9 0\n",
      "HC10 0\n",
      "HC11 0\n",
      "HC12 0\n",
      "HC13 0\n",
      "HC14 0\n",
      "HC15 0\n",
      "HC16 0\n",
      "HC17 0\n",
      "HC18 0\n",
      "HC19 0\n",
      "HC20 0\n",
      "HC21 0\n",
      "MHUC1 0\n",
      "MHUC2 0\n",
      "AC1 0\n",
      "AC2 0\n",
      "ADATE_2 0\n",
      "ADATE_3 1950\n",
      "ADATE_4 2191\n",
      "ADATE_5 33590\n",
      "ADATE_6 3557\n",
      "ADATE_7 8874\n",
      "ADATE_8 3511\n",
      "ADATE_9 11245\n",
      "ADATE_10 32748\n",
      "ADATE_11 10422\n",
      "ADATE_12 8923\n",
      "ADATE_13 40219\n",
      "ADATE_14 18867\n",
      "ADATE_15 65477\n",
      "ADATE_16 20364\n",
      "ADATE_17 27650\n",
      "ADATE_18 21263\n",
      "ADATE_19 24480\n",
      "ADATE_20 50200\n",
      "ADATE_21 35212\n",
      "ADATE_22 25648\n",
      "ADATE_23 56270\n",
      "ADATE_24 36973\n",
      "RFA_2 0\n",
      "RFA_3 0\n",
      "RFA_4 0\n",
      "RFA_5 0\n",
      "RFA_6 0\n",
      "RFA_7 0\n",
      "RFA_8 0\n",
      "RFA_9 0\n",
      "RFA_10 0\n",
      "RFA_11 0\n",
      "RFA_12 0\n",
      "RFA_13 0\n",
      "RFA_14 0\n",
      "RFA_15 0\n",
      "RFA_16 0\n",
      "RFA_17 0\n",
      "RFA_18 0\n",
      "RFA_19 0\n",
      "RFA_20 0\n",
      "RFA_21 0\n",
      "RFA_22 0\n",
      "RFA_23 0\n",
      "RFA_24 0\n",
      "CARDPROM 0\n",
      "MAXADATE 0\n",
      "NUMPROM 0\n",
      "CARDPM12 0\n",
      "NUMPRM12 0\n",
      "RDATE_3 95170\n",
      "RDATE_4 95131\n",
      "RDATE_5 95403\n",
      "RDATE_6 94636\n",
      "RDATE_7 86517\n",
      "RDATE_8 73940\n",
      "RDATE_9 78678\n",
      "RDATE_10 84951\n",
      "RDATE_11 80672\n",
      "RDATE_12 69712\n",
      "RDATE_13 83162\n",
      "RDATE_14 72095\n",
      "RDATE_15 88150\n",
      "RDATE_16 68418\n",
      "RDATE_17 86011\n",
      "RDATE_18 75634\n",
      "RDATE_19 79535\n",
      "RDATE_20 87524\n",
      "RDATE_21 85899\n",
      "RDATE_22 74539\n",
      "RDATE_23 87553\n",
      "RDATE_24 77674\n",
      "RAMNT_3 95170\n",
      "RAMNT_4 95131\n",
      "RAMNT_5 95403\n",
      "RAMNT_6 94636\n",
      "RAMNT_7 86517\n",
      "RAMNT_8 73940\n",
      "RAMNT_9 78678\n",
      "RAMNT_10 84951\n",
      "RAMNT_11 80672\n",
      "RAMNT_12 69712\n",
      "RAMNT_13 83162\n",
      "RAMNT_14 72095\n",
      "RAMNT_15 88150\n",
      "RAMNT_16 68418\n",
      "RAMNT_17 86011\n",
      "RAMNT_18 75634\n",
      "RAMNT_19 79535\n",
      "RAMNT_20 87524\n",
      "RAMNT_21 85899\n",
      "RAMNT_22 74539\n",
      "RAMNT_23 87553\n",
      "RAMNT_24 77674\n",
      "RAMNTALL 0\n",
      "NGIFTALL 0\n",
      "CARDGIFT 0\n",
      "MINRAMNT 0\n",
      "MINRDATE 0\n",
      "MAXRAMNT 0\n",
      "MAXRDATE 0\n",
      "LASTGIFT 0\n",
      "LASTDATE 0\n",
      "FISTDATE 0\n",
      "NEXTDATE 9973\n",
      "TIMELAG 9973\n",
      "AVGGIFT 0\n",
      "CONTROLN 0\n",
      "TARGET_B 0\n",
      "TARGET_D 0\n",
      "HPHONE_D 0\n",
      "RFA_2R 0\n",
      "RFA_2F 0\n",
      "RFA_2A 0\n",
      "MDMAUD_R 0\n",
      "MDMAUD_F 0\n",
      "MDMAUD_A 0\n",
      "CLUSTER2 132\n",
      "GEOCODE2 132\n"
     ]
    }
   ],
   "source": [
    "for col in data.columns:\n",
    "    print( col , data[col].isnull().sum())"
   ]
  },
  {
   "cell_type": "code",
   "execution_count": 46,
   "id": "40a119a1",
   "metadata": {},
   "outputs": [
    {
     "data": {
      "text/plain": [
       "95412"
      ]
     },
     "execution_count": 46,
     "metadata": {},
     "output_type": "execute_result"
    }
   ],
   "source": [
    "data.shape[0]"
   ]
  },
  {
   "cell_type": "code",
   "execution_count": 49,
   "id": "04f16b5a",
   "metadata": {},
   "outputs": [
    {
     "name": "stdout",
     "output_type": "stream",
     "text": [
      "NUMCHLD 87.01840439357733\n",
      "RDATE_3 99.7463631409047\n",
      "RDATE_4 99.70548777931498\n",
      "RDATE_5 99.99056722424852\n",
      "RDATE_6 99.1866851129837\n",
      "RDATE_7 90.67727329895611\n",
      "RDATE_9 82.46132561941894\n",
      "RDATE_10 89.03597031819896\n",
      "RDATE_11 84.55120949146858\n",
      "RDATE_13 87.1609441160441\n",
      "RDATE_15 92.38879805475202\n",
      "RDATE_17 90.14694168448413\n",
      "RDATE_19 83.35953548819855\n",
      "RDATE_20 91.73269609692701\n",
      "RDATE_21 90.02955603068796\n",
      "RDATE_23 91.76309059657066\n",
      "RDATE_24 81.40904708003185\n",
      "RAMNT_3 99.7463631409047\n",
      "RAMNT_4 99.70548777931498\n",
      "RAMNT_5 99.99056722424852\n",
      "RAMNT_6 99.1866851129837\n",
      "RAMNT_7 90.67727329895611\n",
      "RAMNT_9 82.46132561941894\n",
      "RAMNT_10 89.03597031819896\n",
      "RAMNT_11 84.55120949146858\n",
      "RAMNT_13 87.1609441160441\n",
      "RAMNT_15 92.38879805475202\n",
      "RAMNT_17 90.14694168448413\n",
      "RAMNT_19 83.35953548819855\n",
      "RAMNT_20 91.73269609692701\n",
      "RAMNT_21 90.02955603068796\n",
      "RAMNT_23 91.76309059657066\n",
      "RAMNT_24 81.40904708003185\n"
     ]
    }
   ],
   "source": [
    "for col in numerical:\n",
    "    Percentage_null = (data[col].isna().sum()/data.shape[0])*100\n",
    "    if Percentage_null > 80:\n",
    "        print(col, Percentage_null)"
   ]
  },
  {
   "cell_type": "markdown",
   "id": "83b69f61",
   "metadata": {},
   "source": [
    "### Use appropriate methods to clean the columns GEOCODE2, WEALTH1, ADI, DMA,and MSA."
   ]
  },
  {
   "cell_type": "code",
   "execution_count": 36,
   "id": "28643a44",
   "metadata": {},
   "outputs": [],
   "source": [
    "cleaning_columns_numeric = [ \"WEALTH1\", \"ADI\", \"DMA\",\"MSA\"]"
   ]
  },
  {
   "cell_type": "code",
   "execution_count": 37,
   "id": "abfb29bf",
   "metadata": {},
   "outputs": [
    {
     "data": {
      "text/plain": [
       "GEOCODE2     object\n",
       "WEALTH1     float64\n",
       "ADI         float64\n",
       "DMA         float64\n",
       "MSA         float64\n",
       "dtype: object"
      ]
     },
     "execution_count": 37,
     "metadata": {},
     "output_type": "execute_result"
    }
   ],
   "source": [
    "data[[\"GEOCODE2\", \"WEALTH1\", \"ADI\", \"DMA\",\"MSA\"]].dtypes\n"
   ]
  },
  {
   "cell_type": "code",
   "execution_count": 38,
   "id": "192dd0a1",
   "metadata": {},
   "outputs": [
    {
     "data": {
      "text/html": [
       "<div>\n",
       "<style scoped>\n",
       "    .dataframe tbody tr th:only-of-type {\n",
       "        vertical-align: middle;\n",
       "    }\n",
       "\n",
       "    .dataframe tbody tr th {\n",
       "        vertical-align: top;\n",
       "    }\n",
       "\n",
       "    .dataframe thead th {\n",
       "        text-align: right;\n",
       "    }\n",
       "</style>\n",
       "<table border=\"1\" class=\"dataframe\">\n",
       "  <thead>\n",
       "    <tr style=\"text-align: right;\">\n",
       "      <th></th>\n",
       "      <th>ODATEDW</th>\n",
       "      <th>OSOURCE</th>\n",
       "      <th>TCODE</th>\n",
       "      <th>STATE</th>\n",
       "      <th>ZIP</th>\n",
       "      <th>MAILCODE</th>\n",
       "      <th>PVASTATE</th>\n",
       "      <th>DOB</th>\n",
       "      <th>NOEXCH</th>\n",
       "      <th>RECINHSE</th>\n",
       "      <th>...</th>\n",
       "      <th>TARGET_D</th>\n",
       "      <th>HPHONE_D</th>\n",
       "      <th>RFA_2R</th>\n",
       "      <th>RFA_2F</th>\n",
       "      <th>RFA_2A</th>\n",
       "      <th>MDMAUD_R</th>\n",
       "      <th>MDMAUD_F</th>\n",
       "      <th>MDMAUD_A</th>\n",
       "      <th>CLUSTER2</th>\n",
       "      <th>GEOCODE2</th>\n",
       "    </tr>\n",
       "  </thead>\n",
       "  <tbody>\n",
       "    <tr>\n",
       "      <th>0</th>\n",
       "      <td>8901</td>\n",
       "      <td>GRI</td>\n",
       "      <td>0</td>\n",
       "      <td>IL</td>\n",
       "      <td>61081</td>\n",
       "      <td></td>\n",
       "      <td></td>\n",
       "      <td>3712</td>\n",
       "      <td>0</td>\n",
       "      <td></td>\n",
       "      <td>...</td>\n",
       "      <td>0.0</td>\n",
       "      <td>0</td>\n",
       "      <td>L</td>\n",
       "      <td>4</td>\n",
       "      <td>E</td>\n",
       "      <td>X</td>\n",
       "      <td>X</td>\n",
       "      <td>X</td>\n",
       "      <td>39.0</td>\n",
       "      <td>C</td>\n",
       "    </tr>\n",
       "    <tr>\n",
       "      <th>1</th>\n",
       "      <td>9401</td>\n",
       "      <td>BOA</td>\n",
       "      <td>1</td>\n",
       "      <td>CA</td>\n",
       "      <td>91326</td>\n",
       "      <td></td>\n",
       "      <td></td>\n",
       "      <td>5202</td>\n",
       "      <td>0</td>\n",
       "      <td></td>\n",
       "      <td>...</td>\n",
       "      <td>0.0</td>\n",
       "      <td>0</td>\n",
       "      <td>L</td>\n",
       "      <td>2</td>\n",
       "      <td>G</td>\n",
       "      <td>X</td>\n",
       "      <td>X</td>\n",
       "      <td>X</td>\n",
       "      <td>1.0</td>\n",
       "      <td>A</td>\n",
       "    </tr>\n",
       "    <tr>\n",
       "      <th>2</th>\n",
       "      <td>9001</td>\n",
       "      <td>AMH</td>\n",
       "      <td>1</td>\n",
       "      <td>NC</td>\n",
       "      <td>27017</td>\n",
       "      <td></td>\n",
       "      <td></td>\n",
       "      <td>0</td>\n",
       "      <td>0</td>\n",
       "      <td></td>\n",
       "      <td>...</td>\n",
       "      <td>0.0</td>\n",
       "      <td>1</td>\n",
       "      <td>L</td>\n",
       "      <td>4</td>\n",
       "      <td>E</td>\n",
       "      <td>X</td>\n",
       "      <td>X</td>\n",
       "      <td>X</td>\n",
       "      <td>60.0</td>\n",
       "      <td>C</td>\n",
       "    </tr>\n",
       "    <tr>\n",
       "      <th>3</th>\n",
       "      <td>8701</td>\n",
       "      <td>BRY</td>\n",
       "      <td>0</td>\n",
       "      <td>CA</td>\n",
       "      <td>95953</td>\n",
       "      <td></td>\n",
       "      <td></td>\n",
       "      <td>2801</td>\n",
       "      <td>0</td>\n",
       "      <td></td>\n",
       "      <td>...</td>\n",
       "      <td>0.0</td>\n",
       "      <td>1</td>\n",
       "      <td>L</td>\n",
       "      <td>4</td>\n",
       "      <td>E</td>\n",
       "      <td>X</td>\n",
       "      <td>X</td>\n",
       "      <td>X</td>\n",
       "      <td>41.0</td>\n",
       "      <td>C</td>\n",
       "    </tr>\n",
       "    <tr>\n",
       "      <th>4</th>\n",
       "      <td>8601</td>\n",
       "      <td></td>\n",
       "      <td>0</td>\n",
       "      <td>FL</td>\n",
       "      <td>33176</td>\n",
       "      <td></td>\n",
       "      <td></td>\n",
       "      <td>2001</td>\n",
       "      <td>0</td>\n",
       "      <td>X</td>\n",
       "      <td>...</td>\n",
       "      <td>0.0</td>\n",
       "      <td>1</td>\n",
       "      <td>L</td>\n",
       "      <td>2</td>\n",
       "      <td>F</td>\n",
       "      <td>X</td>\n",
       "      <td>X</td>\n",
       "      <td>X</td>\n",
       "      <td>26.0</td>\n",
       "      <td>A</td>\n",
       "    </tr>\n",
       "    <tr>\n",
       "      <th>...</th>\n",
       "      <td>...</td>\n",
       "      <td>...</td>\n",
       "      <td>...</td>\n",
       "      <td>...</td>\n",
       "      <td>...</td>\n",
       "      <td>...</td>\n",
       "      <td>...</td>\n",
       "      <td>...</td>\n",
       "      <td>...</td>\n",
       "      <td>...</td>\n",
       "      <td>...</td>\n",
       "      <td>...</td>\n",
       "      <td>...</td>\n",
       "      <td>...</td>\n",
       "      <td>...</td>\n",
       "      <td>...</td>\n",
       "      <td>...</td>\n",
       "      <td>...</td>\n",
       "      <td>...</td>\n",
       "      <td>...</td>\n",
       "      <td>...</td>\n",
       "    </tr>\n",
       "    <tr>\n",
       "      <th>95407</th>\n",
       "      <td>9601</td>\n",
       "      <td>ASE</td>\n",
       "      <td>1</td>\n",
       "      <td>AK</td>\n",
       "      <td>99504</td>\n",
       "      <td></td>\n",
       "      <td></td>\n",
       "      <td>0</td>\n",
       "      <td>0</td>\n",
       "      <td></td>\n",
       "      <td>...</td>\n",
       "      <td>0.0</td>\n",
       "      <td>0</td>\n",
       "      <td>L</td>\n",
       "      <td>1</td>\n",
       "      <td>G</td>\n",
       "      <td>X</td>\n",
       "      <td>X</td>\n",
       "      <td>X</td>\n",
       "      <td>12.0</td>\n",
       "      <td>C</td>\n",
       "    </tr>\n",
       "    <tr>\n",
       "      <th>95408</th>\n",
       "      <td>9601</td>\n",
       "      <td>DCD</td>\n",
       "      <td>1</td>\n",
       "      <td>TX</td>\n",
       "      <td>77379</td>\n",
       "      <td></td>\n",
       "      <td></td>\n",
       "      <td>5001</td>\n",
       "      <td>0</td>\n",
       "      <td></td>\n",
       "      <td>...</td>\n",
       "      <td>0.0</td>\n",
       "      <td>1</td>\n",
       "      <td>L</td>\n",
       "      <td>1</td>\n",
       "      <td>F</td>\n",
       "      <td>X</td>\n",
       "      <td>X</td>\n",
       "      <td>X</td>\n",
       "      <td>2.0</td>\n",
       "      <td>A</td>\n",
       "    </tr>\n",
       "    <tr>\n",
       "      <th>95409</th>\n",
       "      <td>9501</td>\n",
       "      <td>MBC</td>\n",
       "      <td>1</td>\n",
       "      <td>MI</td>\n",
       "      <td>48910</td>\n",
       "      <td></td>\n",
       "      <td></td>\n",
       "      <td>3801</td>\n",
       "      <td>0</td>\n",
       "      <td></td>\n",
       "      <td>...</td>\n",
       "      <td>0.0</td>\n",
       "      <td>1</td>\n",
       "      <td>L</td>\n",
       "      <td>3</td>\n",
       "      <td>E</td>\n",
       "      <td>X</td>\n",
       "      <td>X</td>\n",
       "      <td>X</td>\n",
       "      <td>34.0</td>\n",
       "      <td>B</td>\n",
       "    </tr>\n",
       "    <tr>\n",
       "      <th>95410</th>\n",
       "      <td>8601</td>\n",
       "      <td>PRV</td>\n",
       "      <td>0</td>\n",
       "      <td>CA</td>\n",
       "      <td>91320</td>\n",
       "      <td></td>\n",
       "      <td></td>\n",
       "      <td>4005</td>\n",
       "      <td>0</td>\n",
       "      <td>X</td>\n",
       "      <td>...</td>\n",
       "      <td>18.0</td>\n",
       "      <td>1</td>\n",
       "      <td>L</td>\n",
       "      <td>4</td>\n",
       "      <td>F</td>\n",
       "      <td>X</td>\n",
       "      <td>X</td>\n",
       "      <td>X</td>\n",
       "      <td>11.0</td>\n",
       "      <td>A</td>\n",
       "    </tr>\n",
       "    <tr>\n",
       "      <th>95411</th>\n",
       "      <td>8801</td>\n",
       "      <td>MCC</td>\n",
       "      <td>2</td>\n",
       "      <td>NC</td>\n",
       "      <td>28409</td>\n",
       "      <td></td>\n",
       "      <td></td>\n",
       "      <td>1801</td>\n",
       "      <td>0</td>\n",
       "      <td>X</td>\n",
       "      <td>...</td>\n",
       "      <td>0.0</td>\n",
       "      <td>1</td>\n",
       "      <td>L</td>\n",
       "      <td>1</td>\n",
       "      <td>G</td>\n",
       "      <td>C</td>\n",
       "      <td>1</td>\n",
       "      <td>C</td>\n",
       "      <td>12.0</td>\n",
       "      <td>C</td>\n",
       "    </tr>\n",
       "  </tbody>\n",
       "</table>\n",
       "<p>95412 rows × 481 columns</p>\n",
       "</div>"
      ],
      "text/plain": [
       "       ODATEDW OSOURCE  TCODE STATE    ZIP MAILCODE PVASTATE   DOB NOEXCH  \\\n",
       "0         8901     GRI      0    IL  61081                    3712      0   \n",
       "1         9401     BOA      1    CA  91326                    5202      0   \n",
       "2         9001     AMH      1    NC  27017                       0      0   \n",
       "3         8701     BRY      0    CA  95953                    2801      0   \n",
       "4         8601              0    FL  33176                    2001      0   \n",
       "...        ...     ...    ...   ...    ...      ...      ...   ...    ...   \n",
       "95407     9601     ASE      1    AK  99504                       0      0   \n",
       "95408     9601     DCD      1    TX  77379                    5001      0   \n",
       "95409     9501     MBC      1    MI  48910                    3801      0   \n",
       "95410     8601     PRV      0    CA  91320                    4005      0   \n",
       "95411     8801     MCC      2    NC  28409                    1801      0   \n",
       "\n",
       "      RECINHSE  ... TARGET_D HPHONE_D RFA_2R RFA_2F RFA_2A MDMAUD_R  MDMAUD_F  \\\n",
       "0               ...      0.0        0      L      4      E        X         X   \n",
       "1               ...      0.0        0      L      2      G        X         X   \n",
       "2               ...      0.0        1      L      4      E        X         X   \n",
       "3               ...      0.0        1      L      4      E        X         X   \n",
       "4            X  ...      0.0        1      L      2      F        X         X   \n",
       "...        ...  ...      ...      ...    ...    ...    ...      ...       ...   \n",
       "95407           ...      0.0        0      L      1      G        X         X   \n",
       "95408           ...      0.0        1      L      1      F        X         X   \n",
       "95409           ...      0.0        1      L      3      E        X         X   \n",
       "95410        X  ...     18.0        1      L      4      F        X         X   \n",
       "95411        X  ...      0.0        1      L      1      G        C         1   \n",
       "\n",
       "      MDMAUD_A CLUSTER2 GEOCODE2  \n",
       "0            X     39.0        C  \n",
       "1            X      1.0        A  \n",
       "2            X     60.0        C  \n",
       "3            X     41.0        C  \n",
       "4            X     26.0        A  \n",
       "...        ...      ...      ...  \n",
       "95407        X     12.0        C  \n",
       "95408        X      2.0        A  \n",
       "95409        X     34.0        B  \n",
       "95410        X     11.0        A  \n",
       "95411        C     12.0        C  \n",
       "\n",
       "[95412 rows x 481 columns]"
      ]
     },
     "execution_count": 38,
     "metadata": {},
     "output_type": "execute_result"
    }
   ],
   "source": [
    "data"
   ]
  },
  {
   "cell_type": "code",
   "execution_count": 39,
   "id": "96821404",
   "metadata": {},
   "outputs": [
    {
     "data": {
      "image/png": "[encoded data removed]",
      "text/plain": [
       "<Figure size 640x480 with 1 Axes>"
      ]
     },
     "metadata": {},
     "output_type": "display_data"
    },
    {
     "data": {
      "image/png": "[encoded data removed]",
      "text/plain": [
       "<Figure size 640x480 with 1 Axes>"
      ]
     },
     "metadata": {},
     "output_type": "display_data"
    },
    {
     "data": {
      "image/png": "[encoded data removed]",
      "text/plain": [
       "<Figure size 640x480 with 1 Axes>"
      ]
     },
     "metadata": {},
     "output_type": "display_data"
    },
    {
     "data": {
      "image/png": "[encoded data removed]",
      "text/plain": [
       "<Figure size 640x480 with 1 Axes>"
      ]
     },
     "metadata": {},
     "output_type": "display_data"
    }
   ],
   "source": [
    "import seaborn as sns\n",
    "import matplotlib.pyplot as plt\n",
    "\n",
    "# Assuming cleaning_columns is a list of column names\n",
    "\n",
    "for col in cleaning_columns_numeric:\n",
    "    sns.boxplot(data[col])\n",
    "    plt.title(col)\n",
    "    plt.show()\n"
   ]
  },
  {
   "cell_type": "code",
   "execution_count": 40,
   "id": "e58c8e2f",
   "metadata": {},
   "outputs": [
    {
     "data": {
      "text/plain": [
       "<bound method IndexOpsMixin.value_counts of 0        NaN\n",
       "1        9.0\n",
       "2        1.0\n",
       "3        4.0\n",
       "4        2.0\n",
       "        ... \n",
       "95407    NaN\n",
       "95408    9.0\n",
       "95409    NaN\n",
       "95410    NaN\n",
       "95411    8.0\n",
       "Name: WEALTH1, Length: 95412, dtype: float64>"
      ]
     },
     "execution_count": 40,
     "metadata": {},
     "output_type": "execute_result"
    }
   ],
   "source": [
    "data.WEALTH1.value_counts"
   ]
  },
  {
   "cell_type": "code",
   "execution_count": 41,
   "id": "a9497feb",
   "metadata": {},
   "outputs": [
    {
     "data": {
      "text/plain": [
       "<bound method IndexOpsMixin.value_counts of 0        C\n",
       "1        A\n",
       "2        C\n",
       "3        C\n",
       "4        A\n",
       "        ..\n",
       "95407    C\n",
       "95408    A\n",
       "95409    B\n",
       "95410    A\n",
       "95411    C\n",
       "Name: GEOCODE2, Length: 95412, dtype: object>"
      ]
     },
     "execution_count": 41,
     "metadata": {},
     "output_type": "execute_result"
    }
   ],
   "source": [
    "data.GEOCODE2.value_counts"
   ]
  },
  {
   "cell_type": "code",
   "execution_count": 29,
   "id": "6578449d",
   "metadata": {
    "scrolled": false
   },
   "outputs": [
    {
     "data": {
      "text/plain": [
       "<bound method IndexOpsMixin.value_counts of 0        177.0\n",
       "1         13.0\n",
       "2        281.0\n",
       "3         67.0\n",
       "4        127.0\n",
       "         ...  \n",
       "95407      0.0\n",
       "95408    201.0\n",
       "95409     61.0\n",
       "95410     13.0\n",
       "95411    355.0\n",
       "Name: ADI, Length: 95412, dtype: float64>"
      ]
     },
     "execution_count": 29,
     "metadata": {},
     "output_type": "execute_result"
    }
   ],
   "source": [
    "data.ADI.value_counts"
   ]
  },
  {
   "cell_type": "code",
   "execution_count": 42,
   "id": "b0b65be2",
   "metadata": {},
   "outputs": [],
   "source": [
    "data2 = data.copy()"
   ]
  },
  {
   "cell_type": "markdown",
   "id": "22a8e28c",
   "metadata": {},
   "source": [
    "### Removing Outliers"
   ]
  },
  {
   "cell_type": "code",
   "execution_count": null,
   "id": "0a58cd9e",
   "metadata": {},
   "outputs": [],
   "source": [
    "## this doesn´t work\n",
    "for col in cleaning_columns_numeric:\n",
    "    iqr = np.percentile(data2[col], 75) - np.percentile(data2[col], 25)\n",
    "    upper_limit = np.percentile(data2[col], 75) + 1.5 * iqr\n",
    "    lower_limit = np.percentile(data2[col], 25) - 1.5 * iqr\n",
    "    data2 = data2[(data2[col] > lower_limit) & (data2[col] < upper_limit)]"
   ]
  },
  {
   "cell_type": "markdown",
   "id": "d6185d8b",
   "metadata": {},
   "source": [
    "### GEOCODE"
   ]
  },
  {
   "cell_type": "code",
   "execution_count": 50,
   "id": "615c3007",
   "metadata": {
    "scrolled": true
   },
   "outputs": [
    {
     "data": {
      "text/plain": [
       "A      34484\n",
       "B      28505\n",
       "D      16580\n",
       "C      15524\n",
       "         187\n",
       "NaN      132\n",
       "Name: GEOCODE2, dtype: int64"
      ]
     },
     "execution_count": 50,
     "metadata": {},
     "output_type": "execute_result"
    }
   ],
   "source": [
    "data['GEOCODE2'].value_counts(dropna=False)"
   ]
  },
  {
   "cell_type": "markdown",
   "id": "4b5cefa3",
   "metadata": {},
   "source": [
    "### Replace with Mode"
   ]
  },
  {
   "cell_type": "code",
   "execution_count": 52,
   "id": "f0f0af36",
   "metadata": {},
   "outputs": [],
   "source": [
    "data['GEOCODE2'] = data['GEOCODE2'].replace(' ', np.nan)\n",
    "mode_geocode2 = data['GEOCODE2'].mode()[0]\n",
    "data['GEOCODE2'] = data['GEOCODE2'].fillna(mode_geocode2)"
   ]
  },
  {
   "cell_type": "code",
   "execution_count": 53,
   "id": "1759b439",
   "metadata": {},
   "outputs": [
    {
     "data": {
      "text/plain": [
       "A    34803\n",
       "B    28505\n",
       "D    16580\n",
       "C    15524\n",
       "Name: GEOCODE2, dtype: int64"
      ]
     },
     "execution_count": 53,
     "metadata": {},
     "output_type": "execute_result"
    }
   ],
   "source": [
    "data['GEOCODE2'].value_counts(dropna=False)"
   ]
  },
  {
   "cell_type": "markdown",
   "id": "4bd3925e",
   "metadata": {},
   "source": [
    "### <div style='background-color: palegreen; padding: 10px;'>WEALTH</div>"
   ]
  },
  {
   "cell_type": "code",
   "execution_count": 56,
   "id": "de381c01",
   "metadata": {},
   "outputs": [
    {
     "data": {
      "text/plain": [
       "['WEALTH1', 'ADI', 'DMA', 'MSA']"
      ]
     },
     "execution_count": 56,
     "metadata": {},
     "output_type": "execute_result"
    }
   ],
   "source": [
    "cleaning_columns_numeric"
   ]
  },
  {
   "cell_type": "code",
   "execution_count": 57,
   "id": "2865593c",
   "metadata": {},
   "outputs": [
    {
     "data": {
      "text/plain": [
       "NaN    44732\n",
       "9.0     7585\n",
       "8.0     6793\n",
       "7.0     6198\n",
       "6.0     5825\n",
       "5.0     5280\n",
       "4.0     4810\n",
       "3.0     4237\n",
       "2.0     4085\n",
       "1.0     3454\n",
       "0.0     2413\n",
       "Name: WEALTH1, dtype: int64"
      ]
     },
     "execution_count": 57,
     "metadata": {},
     "output_type": "execute_result"
    }
   ],
   "source": [
    "data[\"WEALTH1\"].value_counts(dropna = False)\n"
   ]
  },
  {
   "cell_type": "code",
   "execution_count": 72,
   "id": "6a8345a6",
   "metadata": {},
   "outputs": [
    {
     "name": "stderr",
     "output_type": "stream",
     "text": [
      "/var/folders/9g/0kknk5wn63q6t61d2hr_55440000gn/T/ipykernel_70585/3210282603.py:1: UserWarning: \n",
      "\n",
      "`distplot` is a deprecated function and will be removed in seaborn v0.14.0.\n",
      "\n",
      "Please adapt your code to use either `displot` (a figure-level function with\n",
      "similar flexibility) or `histplot` (an axes-level function for histograms).\n",
      "\n",
      "For a guide to updating your code to use the new functions, please see\n",
      "https://gist.github.com/mwaskom/de44147ed2974457ad6372750bbe5751\n",
      "\n",
      "  sns.distplot(data[data[\"WEALTH1\"].isna() == False]['WEALTH1'])\n"
     ]
    },
    {
     "data": {
      "text/plain": [
       "<Axes: xlabel='WEALTH1', ylabel='Density'>"
      ]
     },
     "execution_count": 72,
     "metadata": {},
     "output_type": "execute_result"
    },
    {
     "data": {
      "image/png": "[encoded data removed]",
      "text/plain": [
       "<Figure size 640x480 with 1 Axes>"
      ]
     },
     "metadata": {},
     "output_type": "display_data"
    }
   ],
   "source": [
    "sns.distplot(data[data[\"WEALTH1\"].isna() == False]['WEALTH1'])"
   ]
  },
  {
   "cell_type": "code",
   "execution_count": 66,
   "id": "4ff1f95e",
   "metadata": {},
   "outputs": [],
   "source": [
    "data[\"WEALTH1\"] = data[\"WEALTH1\"].astype(\"object\")\n",
    "data[\"WEALTH1\"] = data[\"WEALTH1\"].fillna(\"9.0\")"
   ]
  },
  {
   "cell_type": "markdown",
   "id": "dd47781d",
   "metadata": {},
   "source": [
    "### ADI"
   ]
  },
  {
   "cell_type": "code",
   "execution_count": 59,
   "id": "c90f246a",
   "metadata": {},
   "outputs": [
    {
     "data": {
      "text/plain": [
       "95412"
      ]
     },
     "execution_count": 59,
     "metadata": {},
     "output_type": "execute_result"
    }
   ],
   "source": [
    "len(data)"
   ]
  },
  {
   "cell_type": "code",
   "execution_count": 58,
   "id": "4ec851a7",
   "metadata": {},
   "outputs": [
    {
     "data": {
      "text/plain": [
       "13.0     7296\n",
       "51.0     4622\n",
       "65.0     3765\n",
       "57.0     2836\n",
       "105.0    2617\n",
       "         ... \n",
       "651.0       1\n",
       "103.0       1\n",
       "601.0       1\n",
       "161.0       1\n",
       "147.0       1\n",
       "Name: ADI, Length: 205, dtype: int64"
      ]
     },
     "execution_count": 58,
     "metadata": {},
     "output_type": "execute_result"
    }
   ],
   "source": [
    "data[\"ADI\"].value_counts(dropna = False)\n",
    "data[\"ADI\"].isna().sum()/data[\"ADI\"]*100/len(data)"
   ]
  },
  {
   "cell_type": "code",
   "execution_count": 61,
   "id": "7bf27788",
   "metadata": {},
   "outputs": [
    {
     "data": {
      "text/plain": [
       "0.1383473776883411"
      ]
     },
     "execution_count": 61,
     "metadata": {},
     "output_type": "execute_result"
    }
   ],
   "source": [
    "(data[\"ADI\"].isna().sum()/len(data))*100"
   ]
  },
  {
   "cell_type": "code",
   "execution_count": 73,
   "id": "21dc8a98",
   "metadata": {},
   "outputs": [
    {
     "name": "stderr",
     "output_type": "stream",
     "text": [
      "/var/folders/9g/0kknk5wn63q6t61d2hr_55440000gn/T/ipykernel_70585/2151455018.py:1: UserWarning: \n",
      "\n",
      "`distplot` is a deprecated function and will be removed in seaborn v0.14.0.\n",
      "\n",
      "Please adapt your code to use either `displot` (a figure-level function with\n",
      "similar flexibility) or `histplot` (an axes-level function for histograms).\n",
      "\n",
      "For a guide to updating your code to use the new functions, please see\n",
      "https://gist.github.com/mwaskom/de44147ed2974457ad6372750bbe5751\n",
      "\n",
      "  sns.distplot(data[data[\"ADI\"].isna() == False]['ADI'])\n"
     ]
    },
    {
     "data": {
      "text/plain": [
       "<Axes: xlabel='ADI', ylabel='Density'>"
      ]
     },
     "execution_count": 73,
     "metadata": {},
     "output_type": "execute_result"
    },
    {
     "data": {
      "image/png": "[encoded data removed]",
      "text/plain": [
       "<Figure size 640x480 with 1 Axes>"
      ]
     },
     "metadata": {},
     "output_type": "display_data"
    }
   ],
   "source": [
    "sns.distplot(data[data[\"ADI\"].isna() == False]['ADI'])"
   ]
  },
  {
   "cell_type": "markdown",
   "id": "28e13211",
   "metadata": {},
   "source": [
    "### DMA"
   ]
  },
  {
   "cell_type": "code",
   "execution_count": 63,
   "id": "b8a6b873",
   "metadata": {
    "scrolled": true
   },
   "outputs": [
    {
     "name": "stdout",
     "output_type": "stream",
     "text": [
      "Unique Values DMA [682. 803. 518. 862. 528. 691. 509. 643. 624. 659. 671. 527. 613. 716.\n",
      " 770. 505. 717. 534. 560. 547. 571. 602. 800. 638. 618. 609. 820. 821.\n",
      " 635. 675. 563. 819. 617. 637. 606. 709. 632. 807. 698. 623. 507. 627.\n",
      " 524. 517. 539. 649. 868. 546. 529. 567. 825. 512. 669. 764. 575. 548.\n",
      " 662. 811. 801. 652. 771. 603. 556. 622. 561. 724. 804. 633. 839. 686.\n",
      " 650. 743. 619. 678. 753. 610. 745. 604. 749. 670. 765. 711. 553. 762.\n",
      " 520. 503. 551. 515. 647. 544.   0. 676. 752. 545. 754. 810. 790. 656.\n",
      " 755. 641. 616. 628. 588. 581. 540. 658. 583. 866. 642. 746. 634. 648.\n",
      " 705. 725. 744. 513. 612. 813. 531. 751. 500. 630. 611. 789. 582. 693.\n",
      " 692. 828. 626. 710. 542. 855. 687. 679. 640. 722. 620. 881. 564. 522.\n",
      " 756. 570. 718.  nan 530. 557. 625. 541. 657. 631. 550. 525. 605. 773.\n",
      " 519. 535. 600. 734. 759. 757. 511. 798. 802. 644. 651. 702. 737. 767.\n",
      " 673. 736. 636. 592. 758. 504. 639. 501. 506. 523. 760. 766. 646. 740.\n",
      " 574. 598. 533. 661. 508. 537. 514. 510. 577. 549. 532. 521. 565. 566.\n",
      " 555. 569. 573. 554. 543. 538. 584. 536. 502. 552. 516.]\n"
     ]
    },
    {
     "data": {
      "text/plain": [
       "803.0    7296\n",
       "602.0    4632\n",
       "807.0    3765\n",
       "505.0    2839\n",
       "819.0    2588\n",
       "         ... \n",
       "569.0       1\n",
       "554.0       1\n",
       "584.0       1\n",
       "552.0       1\n",
       "516.0       1\n",
       "Name: DMA, Length: 207, dtype: int64"
      ]
     },
     "execution_count": 63,
     "metadata": {},
     "output_type": "execute_result"
    }
   ],
   "source": [
    "print(\"Unique Values DMA\", data[\"DMA\"].unique())\n",
    "data[\"DMA\"].value_counts(dropna = False)\n"
   ]
  },
  {
   "cell_type": "code",
   "execution_count": 64,
   "id": "162d42ab",
   "metadata": {},
   "outputs": [
    {
     "data": {
      "text/plain": [
       "0.1383473776883411"
      ]
     },
     "execution_count": 64,
     "metadata": {},
     "output_type": "execute_result"
    }
   ],
   "source": [
    "(data[\"DMA\"].isna().sum()/len(data))*100"
   ]
  },
  {
   "cell_type": "code",
   "execution_count": null,
   "id": "73c2eaec",
   "metadata": {},
   "outputs": [],
   "source": [
    "sns.distplot(data[data[\"ADI\"].isna() == False]['ADI'])"
   ]
  },
  {
   "cell_type": "markdown",
   "id": "1294b71f",
   "metadata": {},
   "source": [
    "### MSA"
   ]
  },
  {
   "cell_type": "code",
   "execution_count": 65,
   "id": "6144f735",
   "metadata": {},
   "outputs": [
    {
     "name": "stdout",
     "output_type": "stream",
     "text": [
      "Unique Values MSA [   0. 4480. 9340. 5000. 2030. 3960. 5360. 3480.  760. 2160. 5960. 5120.\n",
      "  440. 6580. 1600.  680. 3360. 7040. 2920. 3120. 6440.  640. 6120. 3000.\n",
      " 7600. 2680. 5080. 1360. 2180. 4420. 1960. 6640. 7360. 5945. 1920. 1145.\n",
      " 7520. 2800. 1520. 7510. 1620. 4520. 7320.  720. 4720. 1560. 8960.   40.\n",
      " 6720.  520. 9360. 3710. 8280. 6760. 3160. 5560. 3600. 6780. 5800. 4120.\n",
      " 5160. 5880.  380. 3440. 2710. 2020. 9040. 6200. 6880. 6920. 2760. 7080.\n",
      " 4080. 2580. 4100. 5790. 4200.  600. 4680. 4040. 1640. 5775. 8720. 3980.\n",
      " 2240. 1720. 5910. 9260.  200. 7400. 1020. 3290. 2720. 7240. 3800. 8120.\n",
      "  870. 2320. 3760. 1040. 2840. 3880.  920. 6080.  460.  320. 1400. 3320.\n",
      " 2640. 8200. 4890. 3660. 2670. 1000. 2520. 2440. 8520. 3720. 2080. 7500.\n",
      " 3920. 1125. 4400.  840. 7485. 8750. 8735. 1150. 5280. 3285. 7460. 2620.\n",
      " 7160. 4920. 8600.  880. 2985. 5920. 2655. 3560.   nan 3500. 7720. 7480.\n",
      "  860. 2330. 7680. 5200. 3400. 3605. 2750. 8240. 3080. 5170. 3150.  480.\n",
      " 6660. 3840. 2120. 3810. 2960. 7840. 5240. 6690. 1760. 6015. 8780. 4900.\n",
      " 4280. 7640. 3520. 7620. 8800. 2400. 9200. 7920. 8940.  120. 2995. 1440.\n",
      " 8440. 1840. 1880. 3620. 8560. 3850. 1080. 5345. 7120. 8840.  220. 1260.\n",
      " 6980. 6895. 1580. 6960. 1660. 1800. 4600. 6600. 7800. 2560. 2200. 3870.\n",
      " 2700. 8320. 2040.  500. 5720. 4940. 2980. 6560. 6820. 2650. 7880. 8920.\n",
      " 4880. 3350. 3060. 2900. 5330. 6340.  560. 3040. 9270. 3580. 1740. 2340.\n",
      " 5190. 8640. 6740. 1123. 8140. 1240. 4360. 7760. 1350. 7490. 8360. 2290.\n",
      " 3740. 5380. 1010. 9080. 2880. 6160. 3700.  450. 5990. 5483. 4150. 9160.\n",
      " 3680. 5523. 7200. 6520. 6280. 2000. 7000. 5600. 1480. 6240. 6403. 1280.\n",
      " 1680. 7560.  160.  743. 5640. 1303. 2281. 1320. 3240. 8400.   80. 5015.\n",
      " 9280. 3200. 6800. 4000.  875. 9140. 9000. 3283. 2975. 8003. 6840.  733.\n",
      " 1540. 9320. 7610. 3180. 6323. 6483.  960. 8160. 1950. 5660. 8480.]\n"
     ]
    },
    {
     "data": {
      "text/plain": [
       "0.0       21333\n",
       "4480.0     4606\n",
       "1600.0     4059\n",
       "2160.0     2586\n",
       "520.0      1685\n",
       "          ...  \n",
       "9140.0        1\n",
       "3200.0        1\n",
       "9280.0        1\n",
       "743.0         1\n",
       "8480.0        1\n",
       "Name: MSA, Length: 299, dtype: int64"
      ]
     },
     "execution_count": 65,
     "metadata": {},
     "output_type": "execute_result"
    }
   ],
   "source": [
    "print(\"Unique Values MSA\", data[\"MSA\"].unique())\n",
    "data[\"MSA\"].value_counts(dropna = False)"
   ]
  },
  {
   "cell_type": "code",
   "execution_count": null,
   "id": "8e326539",
   "metadata": {},
   "outputs": [],
   "source": []
  }
 ],
 "metadata": {
  "kernelspec": {
   "display_name": "Python 3 (ipykernel)",
   "language": "python",
   "name": "python3"
  },
  "language_info": {
   "codemirror_mode": {
    "name": "ipython",
    "version": 3
   },
   "file_extension": ".py",
   "mimetype": "text/x-python",
   "name": "python",
   "nbconvert_exporter": "python",
   "pygments_lexer": "ipython3",
   "version": "3.10.9"
  }
 },
 "nbformat": 4,
 "nbformat_minor": 5
}
